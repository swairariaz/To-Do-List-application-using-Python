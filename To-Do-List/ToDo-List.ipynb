{
 "cells": [
  {
   "cell_type": "code",
   "execution_count": null,
   "metadata": {},
   "outputs": [],
   "source": [
    "import os\n",
    "\n",
    "TASKS_FILE = \"tasks.txt\"  \n",
    "\n",
    "# load the tasks\n",
    "\n",
    "def load_tasks():\n",
    "    if os.path.exists(TASKS_FILE):  \n",
    "        with open(TASKS_FILE, \"r\") as file:\n",
    "            return [task.strip() for task in file.readlines()]  \n",
    "    return []  \n",
    "\n",
    "#save the tasks\n",
    "\n",
    "def save_tasks(tasks):\n",
    "    with open(TASKS_FILE, \"w\") as file:\n",
    "        for task in tasks:\n",
    "            file.write(task + \"\\n\")\n",
    "\n",
    "# show the tasks\n",
    "\n",
    "def show_tasks(tasks):\n",
    "    if not tasks:\n",
    "        print(\"\\nNo tasks found!\")  \n",
    "    else:\n",
    "        print(\"\\nYour To-Do List:\")\n",
    "        for i, task in enumerate(tasks, 1):\n",
    "            print(f\"{i}. {task}\") \n",
    "\n",
    "# add task \n",
    "\n",
    "def add_task(tasks, task):\n",
    "    tasks.append(task)  \n",
    "    save_tasks(tasks)  \n",
    "    print(\"Task added successfully!\")\n",
    "\n",
    "#remove task\n",
    "\n",
    "def remove_task(tasks, task_num):\n",
    "    if 0 <= task_num < len(tasks):  \n",
    "        removed_task = tasks.pop(task_num)  \n",
    "        save_tasks(tasks)  \n",
    "        print(f\"Task '{removed_task}' removed!\")\n",
    "    else:\n",
    "        print(\"Invalid task number!\")\n",
    "\n",
    "# define the function in Jupiter Notebook\n",
    "\n",
    "def main():\n",
    "    tasks = load_tasks() \n",
    "    return tasks\n"
   ]
  },
  {
   "cell_type": "code",
   "execution_count": null,
   "metadata": {},
   "outputs": [],
   "source": [
    "\n",
    "#load/save task\n",
    "\n",
    "tasks = load_tasks()  \n"
   ]
  },
  {
   "cell_type": "code",
   "execution_count": null,
   "metadata": {},
   "outputs": [],
   "source": [
    "# Enter a task in the List\n",
    "\n",
    "task_input = input(\"Enter a new task: \")  \n",
    "add_task(tasks, task_input)  \n"
   ]
  },
  {
   "cell_type": "code",
   "execution_count": null,
   "metadata": {},
   "outputs": [],
   "source": [
    "# showing the task\n",
    "\n",
    "show_tasks(tasks)"
   ]
  },
  {
   "cell_type": "code",
   "execution_count": null,
   "metadata": {},
   "outputs": [],
   "source": [
    "# remove the task by giving task's index number\n",
    "\n",
    "task_number = int(input(\"Enter task number to remove: \")) -1\n",
    "remove_task(tasks, task_number)\n"
   ]
  },
  {
   "cell_type": "code",
   "execution_count": null,
   "metadata": {},
   "outputs": [],
   "source": [
    "# show the updated list\n",
    "\n",
    "show_tasks(tasks)"
   ]
  }
 ],
 "metadata": {
  "kernelspec": {
   "display_name": "Python 3",
   "language": "python",
   "name": "python3"
  },
  "language_info": {
   "codemirror_mode": {
    "name": "ipython",
    "version": 3
   },
   "file_extension": ".py",
   "mimetype": "text/x-python",
   "name": "python",
   "nbconvert_exporter": "python",
   "pygments_lexer": "ipython3",
   "version": "3.12.3"
  }
 },
 "nbformat": 4,
 "nbformat_minor": 2
}
